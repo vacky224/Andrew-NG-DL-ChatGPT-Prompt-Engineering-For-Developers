{
 "cells": [
  {
   "cell_type": "code",
   "execution_count": 1,
   "id": "5cac0986-bdb4-48fb-a49f-fa80dddbce20",
   "metadata": {},
   "outputs": [
    {
     "data": {
      "text/plain": [
       "'C:\\\\Users\\\\nairvis\\\\Downloads\\\\llm'"
      ]
     },
     "execution_count": 1,
     "metadata": {},
     "output_type": "execute_result"
    }
   ],
   "source": [
    "pwd"
   ]
  },
  {
   "cell_type": "code",
   "execution_count": 3,
   "id": "751a709a-2fe8-40fd-b690-39121e4fbf53",
   "metadata": {},
   "outputs": [],
   "source": [
    "import openai\n",
    "import os\n",
    "\n",
    "from dotenv import load_dotenv, find_dotenv\n",
    "_ = load_dotenv(find_dotenv())\n",
    "\n",
    "openai.api_key  = os.getenv('OPENAI_API_KEY')"
   ]
  },
  {
   "cell_type": "code",
   "execution_count": 5,
   "id": "5860081d-6cfe-4af4-b420-ecd154cb3bfc",
   "metadata": {},
   "outputs": [],
   "source": [
    "client = openai.OpenAI()\n",
    "\n",
    "def get_completion(prompt, model=\"gpt-3.5-turbo\"):\n",
    "    messages = [{\"role\": \"user\", \"content\": prompt}]\n",
    "    response = client.chat.completions.create(\n",
    "        model=model,\n",
    "        messages=messages,\n",
    "        temperature=0\n",
    "    )\n",
    "    return response.choices[0].message.content"
   ]
  },
  {
   "cell_type": "code",
   "execution_count": 9,
   "id": "92eb7eff-3dac-4f8f-a69e-ffc505c57dfc",
   "metadata": {},
   "outputs": [],
   "source": [
    "fact_sheet_chair = \"\"\"\n",
    "OVERVIEW\n",
    "- Part of a beautiful family of mid-century inspired office furniture, \n",
    "including filing cabinets, desks, bookcases, meeting tables, and more.\n",
    "- Several options of shell color and base finishes.\n",
    "- Available with plastic back and front upholstery (SWC-100) \n",
    "or full upholstery (SWC-110) in 10 fabric and 6 leather options.\n",
    "- Base finish options are: stainless steel, matte black, \n",
    "gloss white, or chrome.\n",
    "- Chair is available with or without armrests.\n",
    "- Suitable for home or business settings.\n",
    "- Qualified for contract use.\n",
    "\n",
    "CONSTRUCTION\n",
    "- 5-wheel plastic coated aluminum base.\n",
    "- Pneumatic chair adjust for easy raise/lower action.\n",
    "\n",
    "DIMENSIONS\n",
    "- WIDTH 53 CM | 20.87”\n",
    "- DEPTH 51 CM | 20.08”\n",
    "- HEIGHT 80 CM | 31.50”\n",
    "- SEAT HEIGHT 44 CM | 17.32”\n",
    "- SEAT DEPTH 41 CM | 16.14”\n",
    "\n",
    "OPTIONS\n",
    "- Soft or hard-floor caster options.\n",
    "- Two choices of seat foam densities: \n",
    " medium (1.8 lb/ft3) or high (2.8 lb/ft3)\n",
    "- Armless or 8 position PU armrests \n",
    "\n",
    "MATERIALS\n",
    "SHELL BASE GLIDER\n",
    "- Cast Aluminum with modified nylon PA6/PA66 coating.\n",
    "- Shell thickness: 10 mm.\n",
    "SEAT\n",
    "- HD36 foam\n",
    "\n",
    "COUNTRY OF ORIGIN\n",
    "- Italy\n",
    "\"\"\"\n"
   ]
  },
  {
   "cell_type": "code",
   "execution_count": 11,
   "id": "e80ad15b-baa2-4411-99cc-ffeff382fe06",
   "metadata": {},
   "outputs": [
    {
     "name": "stdout",
     "output_type": "stream",
     "text": [
      "Introducing our sleek and stylish mid-century inspired office chair, perfect for both home and business settings. This chair is part of a beautiful family of office furniture that includes filing cabinets, desks, bookcases, meeting tables, and more.\n",
      "\n",
      "Customize your chair with several options of shell color and base finishes to match your decor. Choose between plastic back and front upholstery or full upholstery in a variety of fabric and leather options. The base finish options include stainless steel, matte black, gloss white, or chrome. You can also choose to have armrests or go for a more minimalist look without them.\n",
      "\n",
      "Constructed with a 5-wheel plastic coated aluminum base and featuring a pneumatic chair adjust for easy raise/lower action, this chair is both durable and functional. The dimensions of the chair are as follows: width 53 cm, depth 51 cm, height 80 cm, seat height 44 cm, and seat depth 41 cm.\n",
      "\n",
      "Customize your chair further with options such as soft or hard-floor caster options, two choices of seat foam densities (medium or high), and the choice between armless or 8 position PU armrests.\n",
      "\n",
      "Made with high-quality materials including cast aluminum with modified nylon coating for the shell base glider and HD36 foam for the seat, this chair is built to last. Plus, it is proudly made in Italy, known for its craftsmanship and design excellence.\n",
      "\n",
      "Elevate your workspace with our versatile and stylish mid-century office chair that is not only aesthetically pleasing but also comfortable and functional. Add a touch of Italian sophistication to your office with this chair today!\n"
     ]
    }
   ],
   "source": [
    "prompt = f\"\"\"\n",
    "Your task is to help a marketing team create a \n",
    "description for a retail website of a product based \n",
    "on a technical fact sheet.\n",
    "\n",
    "Write a product description based on the information \n",
    "provided in the technical specifications delimited by \n",
    "triple backticks.\n",
    "\n",
    "Technical specifications: ```{fact_sheet_chair}```\n",
    "\"\"\"\n",
    "response = get_completion(prompt)\n",
    "print(response)"
   ]
  },
  {
   "cell_type": "code",
   "execution_count": 15,
   "id": "c8303da9-0da9-47f9-b3cb-f27370808ecc",
   "metadata": {},
   "outputs": [],
   "source": [
    "fact_sheet_house = \"\"\"\n",
    "Cattlemans Lodge -6BR/3BA, Spa, Pool Table\n",
    "The space\n",
    "Very spacious, Luxury Mountain Lodge in the highly desirable part of South Lake Tahoe, Montgomery Estates. (Less than 10 minutes to Heavenly and Stateline, NV Casinos) At this beautifully built and furnished home, the great room boasts a wall of picture windows to observe the impressive forested backdrop which also provide plenty of natural sunlight.\n",
    "\n",
    "You'll see high end materials including leather granite counters, vessel sinks, custom wood cabinetry, wood flooring and natural stone.\n",
    "\n",
    "This 3800 square foot home has it all. Perfect for entertaining your guests. Game room, hot tub and lots of space in this peaceful neighborhood which backs into 20 acres of forest land.\n",
    "\n",
    "Features:\n",
    "\n",
    "6 Bedrooms\n",
    "Basemen Level Bedroom 1: California King\n",
    "Main Floor Bedroom 2: Queen\n",
    "Top Floor Bedroom 3: Queen\n",
    "Top Floor Bedroom 4: 2 Full Beds\n",
    "Top Floor Bedroom 5: 2 Sets of Twin Bunk Beds\n",
    "Top Floor Master Bedroom 6: California King, Full Bed\n",
    "Game room with pool table, foosball table\n",
    "Hot tub\n",
    "Keurig and Regular Coffee Maker\n",
    "\n",
    "• 6 bedrooms. You may not exceed maximum occupancy of 14 people not including children 5 and under.\n",
    "• South Lake Tahoe has highly enforced quiet hours of 10pm-8am. Please do not make any noise outdoors during quiet hours\n",
    "• Max occupancy is limited during quiet hours.\n",
    "\n",
    "Maximum Occupancy: 14 Adults, Kids 5 and under do not count towards occupancy\n",
    "Maximum Cars: 4\n",
    "No pets allowed\n",
    "\n",
    "Note on cancellation policy: Please note that booking a visit to Lake Tahoe comes with some risks of guests wishing to cancel and receive a refund due to natural disasters or weather related events. Our cancellation policies are strictly enforced regardless of the reason for cancellation. If you need to reschedule your date, you must be in compliance with cancellation policy first. If there is a blizzard, road closure, fire, smoke, rock slide, avalanche and/or any other natural disasters, our cancellation policy will still be enforced as we cannot expect our property owners to be held accountable for refunds for natural disasters which are expected to occur in the High Sierra Nevada Mountain Range on a constant, regular basis.\n",
    "\n",
    "WE STRONGLY ENCOURAGE ALL TRAVELERS TO PURCHASE TRAVEL INSURANCE TO ENSURE PROTECTION IN THE EVENT YOU FEEL THE NEED TO CANCEL FOR ANY REASON.\n",
    "\n",
    "Cleaning fees also include: Maintenance, supplies, restocking costs. This pays for guest consumables (Such as laundry detergent, soaps, shampoos, starter set of paper towels, tp, etc. For longer stays, we ask guests to purchase). Replacement of items such as broken coffee makers, portable heaters, fans, linens, towels and more. Regular trash removal from bear bins to town dump. We ask guests to assist with optional checkout procedures that are very time consuming such as start dishwasher, wash a load or two of towels. While these procedures are optional for guests, they are highly appreciated to help save our cleaners time, particularly for our back to back turnovers which are very difficult in the Vacation Home Rental industry. – Thank You Lux Villa VR\n",
    "\n",
    "\"\"\""
   ]
  },
  {
   "cell_type": "code",
   "execution_count": 17,
   "id": "9a04cd78-089a-4833-9937-d9cfff4211c5",
   "metadata": {},
   "outputs": [
    {
     "name": "stdout",
     "output_type": "stream",
     "text": [
      "Experience luxury and comfort at the Cattlemans Lodge in South Lake Tahoe. This stunning 6-bedroom, 3-bathroom mountain retreat is perfect for your next getaway. \n",
      "\n",
      "With high-end materials and luxurious furnishings, this 3800 square foot home offers a spacious great room with picture windows overlooking a beautiful forested backdrop. The kitchen features leather granite counters, vessel sinks, and custom wood cabinetry. \n",
      "\n",
      "Entertain your guests in the game room with a pool table and foosball table, or relax in the hot tub after a day of exploring Lake Tahoe. The lodge is located in the peaceful Montgomery Estates neighborhood, just minutes away from Heavenly and Stateline, NV Casinos.\n",
      "\n",
      "With sleeping accommodations for up to 14 adults, this lodge is ideal for large groups or families. Enjoy the convenience of a Keurig and regular coffee maker, as well as the comfort of California King and Queen beds in the bedrooms.\n",
      "\n",
      "Please note that quiet hours are strictly enforced in South Lake Tahoe from 10pm-8am, and maximum occupancy is limited during these hours. No pets are allowed on the property.\n",
      "\n",
      "For your peace of mind, we recommend purchasing travel insurance to protect your trip in case of cancellation due to natural disasters or weather-related events. Our cancellation policy is strictly enforced, so please plan accordingly.\n",
      "\n",
      "Book your stay at the Cattlemans Lodge and enjoy a luxurious mountain retreat in beautiful South Lake Tahoe.\n"
     ]
    }
   ],
   "source": [
    "prompt = f\"\"\"\n",
    "Your task is to help a marketing team create a \n",
    "description for a retail website of a product based \n",
    "on a technical fact sheet.\n",
    "\n",
    "Write a product description based on the information \n",
    "provided in the technical specifications delimited by \n",
    "triple backticks.\n",
    "\n",
    "Technical specifications: ```{fact_sheet_house}```\n",
    "\"\"\"\n",
    "response = get_completion(prompt)\n",
    "print(response)"
   ]
  },
  {
   "cell_type": "markdown",
   "id": "52dc7802-2d13-4e2f-93d1-5a5caec6c912",
   "metadata": {},
   "source": [
    "**Issue 1: The text is too long\r\n",
    "Limit the number of words/sentences/characters**."
   ]
  },
  {
   "cell_type": "code",
   "execution_count": 34,
   "id": "dcdfe458-b474-46ef-b697-4543d75e6136",
   "metadata": {},
   "outputs": [
    {
     "name": "stdout",
     "output_type": "stream",
     "text": [
      "Experience luxury and comfort at the Cattlemans Lodge in South Lake Tahoe. This stunning 6-bedroom, 3-bathroom mountain retreat is perfect for your next getaway. With high-end finishes like leather granite counters, custom wood cabinetry, and wood flooring, this 3800 square foot home exudes elegance.\n",
      "\n",
      "Entertain your guests in the spacious great room with a wall of picture windows offering breathtaking forest views. The game room with a pool table and foosball table provides hours of fun, while the hot tub offers relaxation after a day of adventure.\n",
      "\n",
      "Each bedroom is beautifully appointed, with options ranging from California King beds to twin bunk beds, accommodating up to 14 adults. Enjoy the peaceful neighborhood backing into 20 acres of forest land, just minutes away from Heavenly and Stateline, NV Casinos.\n",
      "\n",
      "Please note our strict cancellation policy, and consider purchasing travel insurance for added protection. Our cleaning fees cover maintenance, supplies, and restocking costs, ensuring a seamless experience for our guests. Book your stay at Cattlemans Lodge for a luxurious and unforgettable Tahoe retreat.\n"
     ]
    }
   ],
   "source": [
    "prompt = f\"\"\"\n",
    "Your task is to help a marketing team create a \n",
    "description for a retail website of a product based \n",
    "on a technical fact sheet.\n",
    "\n",
    "Write a product description based on the information \n",
    "provided in the technical specifications delimited by \n",
    "triple backticks.\n",
    "\n",
    "Use at most 225 words.\n",
    "\n",
    "Technical specifications: ```{fact_sheet_house}```\n",
    "\"\"\"\n",
    "response = get_completion(prompt)\n",
    "print(response)\n"
   ]
  },
  {
   "cell_type": "code",
   "execution_count": 36,
   "id": "d48824e7-11ce-4b68-ade2-39eda01d12ca",
   "metadata": {},
   "outputs": [
    {
     "data": {
      "text/plain": [
       "171"
      ]
     },
     "execution_count": 36,
     "metadata": {},
     "output_type": "execute_result"
    }
   ],
   "source": [
    "len(response.split())"
   ]
  },
  {
   "cell_type": "code",
   "execution_count": 38,
   "id": "e299ff4e-ec8c-4f8b-a8a6-d4ba7e897018",
   "metadata": {},
   "outputs": [
    {
     "name": "stdout",
     "output_type": "stream",
     "text": [
      "Experience luxury and comfort at the Cattlemans Lodge in South Lake Tahoe. This 6-bedroom, 3-bathroom mountain retreat is perfect for entertaining with a game room, hot tub, and spacious living areas. The high-end finishes, including leather granite counters and custom wood cabinetry, create a luxurious atmosphere. Enjoy the peaceful neighborhood backing into 20 acres of forest land, just minutes away from Heavenly and Stateline, NV Casinos. With a maximum occupancy of 14 adults and 4 cars allowed, this lodge is the ideal getaway for families and friends looking to relax and unwind in style.\n"
     ]
    }
   ],
   "source": [
    "prompt = f\"\"\"\n",
    "Your task is to help a marketing team create a \n",
    "description for a retail website of a product based \n",
    "on a technical fact sheet.\n",
    "\n",
    "Write a product description based on the information \n",
    "provided in the technical specifications delimited by \n",
    "triple backticks.\n",
    "\n",
    "Use at most 5 sentences.\n",
    "\n",
    "Technical specifications: ```{fact_sheet_house}```\n",
    "\"\"\"\n",
    "response = get_completion(prompt)\n",
    "print(response)"
   ]
  },
  {
   "cell_type": "code",
   "execution_count": 44,
   "id": "faaee3ab-fc9d-4212-a8b1-400ecc4aa15b",
   "metadata": {},
   "outputs": [
    {
     "name": "stdout",
     "output_type": "stream",
     "text": [
      "Welcome to the Cattlemans Lodge in South Lake Tahoe! This luxurious 6-bedroom, 3-bathroom mountain lodge is the perfect getaway for large groups and families. With a game room, hot tub, and pool table, there's plenty of entertainment for everyone.\n",
      "\n",
      "The lodge features high-end materials and beautiful furnishings, creating a cozy and inviting atmosphere. The spacious great room offers stunning views of the forested backdrop, perfect for capturing Instagram-worthy pictures.\n",
      "\n",
      "Whether you're relaxing in the hot tub or enjoying a game of pool, this lodge has everything you need for a memorable stay. Don't forget to use our Keurig and regular coffee maker to start your day off right!\n",
      "\n",
      "With a maximum occupancy of 14 adults and plenty of space for parking, the Cattlemans Lodge is the ideal vacation rental in South Lake Tahoe. Book your stay now and create unforgettable memories with your loved ones. #CattlemansLodge #LuxuryGetaway #SouthLakeTahoe #MountainRetreat #VacationGoals\n"
     ]
    }
   ],
   "source": [
    "prompt = f\"\"\"\n",
    "Your task is to help a marketing team create a \n",
    "description for a retail website of a product based \n",
    "on a technical fact sheet.\n",
    "\n",
    "Write a product description based on the information \n",
    "provided in the technical specifications delimited by \n",
    "triple backticks.\n",
    "\n",
    "This description should be intended for youngsters and large groups with a special emphasis on lovely pictures that you can post in Instagram. create Instagram\n",
    "hashtags too\n",
    "\n",
    "Use at most 10 sentences.\n",
    "\n",
    "Technical specifications: ```{fact_sheet_house}```\n",
    "\"\"\"\n",
    "response = get_completion(prompt)\n",
    "print(response)"
   ]
  },
  {
   "cell_type": "code",
   "execution_count": 48,
   "id": "caad4d1e-3606-46f4-9b7f-8ae97c149dee",
   "metadata": {},
   "outputs": [
    {
     "name": "stdout",
     "output_type": "stream",
     "text": [
      "Introducing our sleek and versatile office chair, part of a stylish mid-century inspired collection. Choose from a variety of shell colors and base finishes to suit your space. The chair is available with plastic or full upholstery in a range of fabric and leather options. With a durable 5-wheel plastic coated aluminum base and pneumatic chair adjust, this chair is perfect for both home and business settings. The seat is crafted with high-quality HD36 foam for ultimate comfort. Made in Italy, this chair is designed for contract use and comes with every 7-character Product ID: SWC-100, SWC-110.\n"
     ]
    }
   ],
   "source": [
    "prompt = f\"\"\"\n",
    "Your task is to help a marketing team create a \n",
    "description for a retail website of a product based \n",
    "on a technical fact sheet.\n",
    "\n",
    "Write a product description based on the information \n",
    "provided in the technical specifications delimited by \n",
    "triple backticks.\n",
    "\n",
    "The description is intended for furniture retailers, \n",
    "so should be technical in nature and focus on the \n",
    "materials the product is constructed from.\n",
    "\n",
    "At the end of the description, include every 7-character \n",
    "Product ID in the technical specification.\n",
    "\n",
    "Use at most 100 words.\n",
    "\n",
    "Technical specifications: ```{fact_sheet_chair}```\n",
    "\"\"\"\n",
    "response = get_completion(prompt)\n",
    "print(response)"
   ]
  },
  {
   "cell_type": "markdown",
   "id": "9e020fb0-90ea-4ee3-8655-2595b42a7c38",
   "metadata": {},
   "source": [
    "**Issue 3. Description needs a table of dimensions\r\n",
    "Ask it to extract information and organize it in a table**."
   ]
  },
  {
   "cell_type": "code",
   "execution_count": 56,
   "id": "bae40940-1302-4208-b1dd-924c21df8032",
   "metadata": {},
   "outputs": [
    {
     "name": "stdout",
     "output_type": "stream",
     "text": [
      "<div>\n",
      "  <p>Introducing our latest addition to the mid-century inspired office furniture collection - the versatile and stylish office chair. This chair is designed to elevate any workspace, whether it be at home or in a business setting. With a range of shell colors and base finishes to choose from, you can customize this chair to suit your aesthetic preferences.</p>\n",
      "  \n",
      "  <p>The construction of this chair is top-notch, featuring a 5-wheel plastic coated aluminum base for stability and mobility. The pneumatic chair adjust allows for easy raise and lower action, ensuring maximum comfort throughout the day.</p>\n",
      "  \n",
      "  <p>Constructed with high-quality materials, the shell base glider is made of cast aluminum with a modified nylon PA6/PA66 coating, while the seat is filled with HD36 foam for ultimate comfort and durability. This chair is not only stylish but also built to last.</p>\n",
      "  \n",
      "  <p>Product ID: SWC-100</p>\n",
      "</div>\n",
      "\n",
      "<table>\n",
      "  <caption>Product Dimensions</caption>\n",
      "  <tr>\n",
      "    <td>WIDTH</td>\n",
      "    <td>20.87\"</td>\n",
      "  </tr>\n",
      "  <tr>\n",
      "    <td>DEPTH</td>\n",
      "    <td>20.08\"</td>\n",
      "  </tr>\n",
      "  <tr>\n",
      "    <td>HEIGHT</td>\n",
      "    <td>31.50\"</td>\n",
      "  </tr>\n",
      "  <tr>\n",
      "    <td>SEAT HEIGHT</td>\n",
      "    <td>17.32\"</td>\n",
      "  </tr>\n",
      "  <tr>\n",
      "    <td>SEAT DEPTH</td>\n",
      "    <td>16.14\"</td>\n",
      "  </tr>\n",
      "</table>\n"
     ]
    }
   ],
   "source": [
    "prompt = f\"\"\"\n",
    "Your task is to help a marketing team create a \n",
    "description for a retail website of a product based \n",
    "on a technical fact sheet.\n",
    "\n",
    "Write a product description based on the information \n",
    "provided in the technical specifications delimited by \n",
    "triple backticks.\n",
    "\n",
    "The description is intended for furniture retailers, \n",
    "so should be technical in nature and focus on the \n",
    "materials the product is constructed from.\n",
    "\n",
    "At the end of the description, include every 7-character \n",
    "Product ID in the technical specification.\n",
    "\n",
    "After the description, include a table that gives the \n",
    "product's dimensions. The table should have two columns.\n",
    "In the first column include the name of the dimension. \n",
    "In the second column include the measurements in inches only.\n",
    "\n",
    "Give the table the title 'Product Dimensions'.\n",
    "\n",
    "Format everything as HTML that can be used in a website. \n",
    "Place the description in a <div> element.\n",
    "\n",
    "Technical specifications: ```{fact_sheet_chair}```\n",
    "\"\"\"\n",
    "\n",
    "response = get_completion(prompt)\n",
    "print(response)"
   ]
  },
  {
   "cell_type": "code",
   "execution_count": 58,
   "id": "d1c846a2-4437-4721-b716-52859b2687a2",
   "metadata": {},
   "outputs": [],
   "source": [
    "from IPython.display import display, HTML"
   ]
  },
  {
   "cell_type": "code",
   "execution_count": 60,
   "id": "9fc1242b-abfe-4d8e-b33f-aa6380c454d8",
   "metadata": {},
   "outputs": [
    {
     "data": {
      "text/html": [
       "<div>\n",
       "  <p>Introducing our latest addition to the mid-century inspired office furniture collection - the versatile and stylish office chair. This chair is designed to elevate any workspace, whether it be at home or in a business setting. With a range of shell colors and base finishes to choose from, you can customize this chair to suit your aesthetic preferences.</p>\n",
       "  \n",
       "  <p>The construction of this chair is top-notch, featuring a 5-wheel plastic coated aluminum base for stability and mobility. The pneumatic chair adjust allows for easy raise and lower action, ensuring maximum comfort throughout the day.</p>\n",
       "  \n",
       "  <p>Constructed with high-quality materials, the shell base glider is made of cast aluminum with a modified nylon PA6/PA66 coating, while the seat is filled with HD36 foam for ultimate comfort and durability. This chair is not only stylish but also built to last.</p>\n",
       "  \n",
       "  <p>Product ID: SWC-100</p>\n",
       "</div>\n",
       "\n",
       "<table>\n",
       "  <caption>Product Dimensions</caption>\n",
       "  <tr>\n",
       "    <td>WIDTH</td>\n",
       "    <td>20.87\"</td>\n",
       "  </tr>\n",
       "  <tr>\n",
       "    <td>DEPTH</td>\n",
       "    <td>20.08\"</td>\n",
       "  </tr>\n",
       "  <tr>\n",
       "    <td>HEIGHT</td>\n",
       "    <td>31.50\"</td>\n",
       "  </tr>\n",
       "  <tr>\n",
       "    <td>SEAT HEIGHT</td>\n",
       "    <td>17.32\"</td>\n",
       "  </tr>\n",
       "  <tr>\n",
       "    <td>SEAT DEPTH</td>\n",
       "    <td>16.14\"</td>\n",
       "  </tr>\n",
       "</table>"
      ],
      "text/plain": [
       "<IPython.core.display.HTML object>"
      ]
     },
     "metadata": {},
     "output_type": "display_data"
    }
   ],
   "source": [
    "display(HTML(response))"
   ]
  },
  {
   "cell_type": "code",
   "execution_count": null,
   "id": "6fa45f99-026c-4128-94bf-bc2c19a17fe8",
   "metadata": {},
   "outputs": [],
   "source": []
  }
 ],
 "metadata": {
  "kernelspec": {
   "display_name": "Python 3 (ipykernel)",
   "language": "python",
   "name": "python3"
  },
  "language_info": {
   "codemirror_mode": {
    "name": "ipython",
    "version": 3
   },
   "file_extension": ".py",
   "mimetype": "text/x-python",
   "name": "python",
   "nbconvert_exporter": "python",
   "pygments_lexer": "ipython3",
   "version": "3.12.4"
  }
 },
 "nbformat": 4,
 "nbformat_minor": 5
}
