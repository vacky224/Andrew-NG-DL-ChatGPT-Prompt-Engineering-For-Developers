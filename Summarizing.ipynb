{
 "cells": [
  {
   "cell_type": "code",
   "execution_count": 9,
   "id": "19b05d47-3440-4229-8d9a-e4339473b2fe",
   "metadata": {},
   "outputs": [],
   "source": [
    "import openai\n",
    "import os\n",
    "\n",
    "from dotenv import load_dotenv, find_dotenv\n",
    "_ = load_dotenv(find_dotenv())\n",
    "\n",
    "openai.api_key  = os.getenv('OPENAI_API_KEY')"
   ]
  },
  {
   "cell_type": "code",
   "execution_count": 11,
   "id": "6ada5b4d-759f-4f41-83d4-d2f6e1e04230",
   "metadata": {},
   "outputs": [
    {
     "data": {
      "text/plain": [
       "'C:\\\\Users\\\\nairvis\\\\Downloads\\\\llm'"
      ]
     },
     "execution_count": 11,
     "metadata": {},
     "output_type": "execute_result"
    }
   ],
   "source": [
    "pwd"
   ]
  },
  {
   "cell_type": "code",
   "execution_count": 13,
   "id": "00359470-70ed-4e2f-a186-d9987572ec42",
   "metadata": {},
   "outputs": [
    {
     "name": "stdout",
     "output_type": "stream",
     "text": [
      "Let us get into the 3rd Lesson Called SUmmarizing\n"
     ]
    }
   ],
   "source": [
    "print (\"Let us get into the 3rd Lesson Called SUmmarizing\")"
   ]
  },
  {
   "cell_type": "code",
   "execution_count": 15,
   "id": "50d9293c-3c38-4c2b-ae00-85be30592a03",
   "metadata": {},
   "outputs": [],
   "source": [
    "client = openai.OpenAI()\n",
    "\n",
    "def get_completion(prompt, model=\"gpt-3.5-turbo\"):\n",
    "    messages = [{\"role\": \"user\", \"content\": prompt}]\n",
    "    response = client.chat.completions.create(\n",
    "        model=model,\n",
    "        messages=messages,\n",
    "        temperature=0\n",
    "    )\n",
    "    return response.choices[0].message.content\n"
   ]
  },
  {
   "cell_type": "markdown",
   "id": "85953635-9504-4b33-a497-5449395e0435",
   "metadata": {},
   "source": [
    "**Text to summarize**"
   ]
  },
  {
   "cell_type": "code",
   "execution_count": 19,
   "id": "2a70064b-943a-49c2-956e-32adea2b11a3",
   "metadata": {},
   "outputs": [
    {
     "name": "stderr",
     "output_type": "stream",
     "text": [
      "<>:1: SyntaxWarning: invalid escape sequence '\\ '\n",
      "<>:1: SyntaxWarning: invalid escape sequence '\\ '\n",
      "C:\\Users\\nairvis\\AppData\\Local\\Temp\\ipykernel_12364\\2733959966.py:1: SyntaxWarning: invalid escape sequence '\\ '\n",
      "  prod_review = \"\"\"\n"
     ]
    }
   ],
   "source": [
    "prod_review = \"\"\"\n",
    "Got this panda plush toy for my daughter's birthday, \\\n",
    "who loves it and takes it everywhere. It's soft and \\ \n",
    "super cute, and its face has a friendly look. It's \\ \n",
    "a bit small for what I paid though. I think there \\ \n",
    "might be other options that are bigger for the \\ \n",
    "same price. It arrived a day earlier than expected, \\ \n",
    "so I got to play with it myself before I gave it \\ \n",
    "to her.\n",
    "\"\"\""
   ]
  },
  {
   "cell_type": "markdown",
   "id": "b943bd4a-03ee-48a9-8341-18c2647d0326",
   "metadata": {},
   "source": [
    "**Summarize with a word/sentence/character limit**\n"
   ]
  },
  {
   "cell_type": "code",
   "execution_count": 31,
   "id": "329ab6ad-f346-4c9c-b990-8203ad510619",
   "metadata": {},
   "outputs": [
    {
     "name": "stdout",
     "output_type": "stream",
     "text": [
      "Summary: \n",
      "Soft and cute panda plush toy loved by daughter, but smaller than expected for the price. Arrived early, allowing for personal enjoyment before gifting.\n"
     ]
    }
   ],
   "source": [
    "prompt = f\"\"\"\n",
    "Your task is to generate a short summary of a product \\\n",
    "review from an ecommerce site. \n",
    "\n",
    "Summarize the review below, delimited by triple \n",
    "backticks, in at most 30 words. \n",
    "\n",
    "Review: ```{prod_review}```\n",
    "\"\"\"\n",
    "\n",
    "response = get_completion(prompt)\n",
    "print(response)\n"
   ]
  },
  {
   "cell_type": "code",
   "execution_count": 33,
   "id": "9ba87b36-ea8a-4f65-b5f5-21260c0479b9",
   "metadata": {},
   "outputs": [],
   "source": [
    "home_review=\"\"\"\n",
    "We had a group of 11. There was plenty of space for all of us to sleep and nobody was doubled up in a bed. \n",
    "There were 3 bathrooms an additional one in the basement would have been great. Overall the location was great, \n",
    "we will come back!\n",
    "\"\"\""
   ]
  },
  {
   "cell_type": "code",
   "execution_count": 35,
   "id": "c2aaea5c-635b-4f86-bc38-29944054cad4",
   "metadata": {},
   "outputs": [
    {
     "name": "stdout",
     "output_type": "stream",
     "text": [
      "\n",
      "We had a group of 11. There was plenty of space for all of us to sleep and nobody was doubled up in a bed. \n",
      "There were 3 bathrooms an additional one in the basement would have been great. Overall the location was great, \n",
      "we will come back!\n",
      "\n"
     ]
    }
   ],
   "source": [
    "print(home_review)"
   ]
  },
  {
   "cell_type": "code",
   "execution_count": 37,
   "id": "65ac708c-3093-4fbd-ac03-d85e6f913904",
   "metadata": {},
   "outputs": [
    {
     "name": "stdout",
     "output_type": "stream",
     "text": [
      "Great location with plenty of space for 11 people to sleep comfortably. Wish there was an extra bathroom in the basement. Will return.\n"
     ]
    }
   ],
   "source": [
    "prompt = f\"\"\"\n",
    "Your task is to generate a short summary of a product \\\n",
    "review from an ecommerce site. \n",
    "\n",
    "Summarize the review below, delimited by triple \n",
    "backticks, in at most 30 words. \n",
    "\n",
    "Review: ```{home_review}```\n",
    "\"\"\"\n",
    "\n",
    "response = get_completion(prompt)\n",
    "print(response)\n"
   ]
  },
  {
   "cell_type": "markdown",
   "id": "0687ef5b-9ac8-4ecf-b513-423b086cd1da",
   "metadata": {},
   "source": [
    "***Summarize with a focus on shipping and delivery***\r",
    "\""
   ]
  },
  {
   "cell_type": "code",
   "execution_count": 40,
   "id": "199ea8ae-a4fd-4ec8-8afc-a0db8c64db40",
   "metadata": {},
   "outputs": [
    {
     "name": "stdout",
     "output_type": "stream",
     "text": [
      "The customer was pleased with the early delivery of the panda plush toy, but felt it was slightly small for the price paid.\n"
     ]
    }
   ],
   "source": [
    "prompt = f\"\"\"\n",
    "Your task is to generate a short summary of a product \\\n",
    "review from an ecommerce site to give feedback to the \\\n",
    "Shipping deparmtment. \n",
    "\n",
    "Summarize the review below, delimited by triple \n",
    "backticks, in at most 30 words, and focusing on any aspects \\\n",
    "that mention shipping and delivery of the product. \n",
    "\n",
    "Review: ```{prod_review}```\n",
    "\"\"\"\n",
    "\n",
    "response = get_completion(prompt)\n",
    "print(response)"
   ]
  },
  {
   "cell_type": "code",
   "execution_count": 42,
   "id": "54e866f3-0e4c-46e4-8f1b-bc5a4023dc88",
   "metadata": {},
   "outputs": [
    {
     "name": "stdout",
     "output_type": "stream",
     "text": [
      "The reviewer was satisfied with the spacious accommodation for 11 people, but suggested an additional bathroom. They praised the great location and plan to return.\n"
     ]
    }
   ],
   "source": [
    "prompt = f\"\"\"\n",
    "Your task is to generate a short summary of a product \\\n",
    "review from an ecommerce site to give feedback to the \\\n",
    "Propety Management deparmtment. \n",
    "\n",
    "Summarize the review below, delimited by triple \n",
    "backticks, in at most 30 words, and focusing on any aspects \\\n",
    "that mention shipping and delivery of the product. \n",
    "\n",
    "Review: ```{home_review}```\n",
    "\"\"\"\n",
    "\n",
    "response = get_completion(prompt)\n",
    "print(response)"
   ]
  },
  {
   "cell_type": "markdown",
   "id": "689eb293-473b-49a9-8d70-89b5451dcceb",
   "metadata": {},
   "source": [
    "**Summarize with a focus on price and value**"
   ]
  },
  {
   "cell_type": "code",
   "execution_count": 45,
   "id": "a1578f68-f137-4fd2-b9a3-c6eefe5f2bdb",
   "metadata": {},
   "outputs": [
    {
     "name": "stdout",
     "output_type": "stream",
     "text": [
      "The panda plush toy is loved for its softness and cuteness, but some customers feel it's a bit small for the price.\n"
     ]
    }
   ],
   "source": [
    "prompt = f\"\"\"\n",
    "Your task is to generate a short summary of a product \\\n",
    "review from an ecommerce site to give feedback to the \\\n",
    "pricing deparmtment, responsible for determining the \\\n",
    "price of the product.  \n",
    "\n",
    "Summarize the review below, delimited by triple \n",
    "backticks, in at most 30 words, and focusing on any aspects \\\n",
    "that are relevant to the price and perceived value. \n",
    "\n",
    "Review: ```{prod_review}```\n",
    "\"\"\"\n",
    "\n",
    "response = get_completion(prompt)\n",
    "print(response)"
   ]
  },
  {
   "cell_type": "code",
   "execution_count": 47,
   "id": "99a791a0-0899-4891-a347-6bc9d43bde96",
   "metadata": {},
   "outputs": [
    {
     "name": "stdout",
     "output_type": "stream",
     "text": [
      "The spacious accommodation comfortably fit a group of 11, with ample sleeping space and convenient location. An extra bathroom would enhance value.\n"
     ]
    }
   ],
   "source": [
    "prompt = f\"\"\"\n",
    "Your task is to generate a short summary of a product \\\n",
    "review from an ecommerce site to give feedback to the \\\n",
    "pricing deparmtment, responsible for determining the \\\n",
    "price of the product.  \n",
    "\n",
    "Summarize the review below, delimited by triple \n",
    "backticks, in at most 30 words, and focusing on any aspects \\\n",
    "that are relevant to the price and perceived value. \n",
    "\n",
    "Review: ```{home_review}```\n",
    "\"\"\"\n",
    "\n",
    "response = get_completion(prompt)\n",
    "print(response)"
   ]
  },
  {
   "cell_type": "markdown",
   "id": "33c9133e-79ad-4d41-91e8-5e2c7df3e63f",
   "metadata": {},
   "source": [
    "****Try \"extract\" instead of \"summarize\"****"
   ]
  },
  {
   "cell_type": "code",
   "execution_count": 55,
   "id": "e8b68500-f4d2-4359-a711-ecabdb5b258e",
   "metadata": {},
   "outputs": [
    {
     "name": "stderr",
     "output_type": "stream",
     "text": [
      "<>:11: SyntaxWarning: invalid escape sequence '\\ '\n",
      "<>:11: SyntaxWarning: invalid escape sequence '\\ '\n",
      "C:\\Users\\nairvis\\AppData\\Local\\Temp\\ipykernel_12364\\2053972773.py:11: SyntaxWarning: invalid escape sequence '\\ '\n",
      "  \"\"\"\n"
     ]
    },
    {
     "name": "stdout",
     "output_type": "stream",
     "text": [
      "Feedback: The product arrived a day earlier than expected, which was a pleasant surprise. Consider offering larger options for the same price to improve customer satisfaction.\n"
     ]
    }
   ],
   "source": [
    "prompt = f\"\"\"\n",
    "Your task is to extract relevant information from \\ \n",
    "a product review from an ecommerce site to give \\\n",
    "feedback to the Shipping department. \n",
    "\n",
    "From the review below, delimited by triple quotes \\\n",
    "extract the information relevant to shipping and \\ \n",
    "delivery. Limit to 30 words. \n",
    "\n",
    "Review: ```{prod_review}```\n",
    "\"\"\"\n",
    "\n",
    "response = get_completion(prompt)\n",
    "print(response)"
   ]
  },
  {
   "cell_type": "code",
   "execution_count": null,
   "id": "b46f34c7-3d4a-4450-b7d7-abab41b6bdaf",
   "metadata": {},
   "outputs": [],
   "source": []
  },
  {
   "cell_type": "code",
   "execution_count": 57,
   "id": "b9231a35-eb9b-466a-a5bc-dcb48e0365dd",
   "metadata": {},
   "outputs": [
    {
     "name": "stderr",
     "output_type": "stream",
     "text": [
      "<>:11: SyntaxWarning: invalid escape sequence '\\ '\n",
      "<>:11: SyntaxWarning: invalid escape sequence '\\ '\n",
      "C:\\Users\\nairvis\\AppData\\Local\\Temp\\ipykernel_12364\\735006552.py:11: SyntaxWarning: invalid escape sequence '\\ '\n",
      "  \"\"\"\n"
     ]
    },
    {
     "name": "stdout",
     "output_type": "stream",
     "text": [
      "Feedback for Property Management: Ensure sufficient bathrooms for large groups, consider adding an additional one in the basement for convenience. Location was great.\n"
     ]
    }
   ],
   "source": [
    "prompt = f\"\"\"\n",
    "Your task is to extract relevant information from \\ \n",
    "a product review from an ecommerce site to give \\\n",
    "feedback to the Shipping department. \n",
    "\n",
    "From the review below, delimited by triple quotes \\\n",
    "extract the information relevant to Property Management\n",
    "team. Limit to 30 words. \n",
    "\n",
    "Review: ```{home_review}```\n",
    "\"\"\"\n",
    "\n",
    "response = get_completion(prompt)\n",
    "print(response)"
   ]
  },
  {
   "cell_type": "code",
   "execution_count": 61,
   "id": "615f2166-d32a-4126-8326-6d0e56471539",
   "metadata": {},
   "outputs": [
    {
     "name": "stderr",
     "output_type": "stream",
     "text": [
      "<>:10: SyntaxWarning: invalid escape sequence '\\ '\n",
      "<>:10: SyntaxWarning: invalid escape sequence '\\ '\n",
      "C:\\Users\\nairvis\\AppData\\Local\\Temp\\ipykernel_12364\\708559169.py:10: SyntaxWarning: invalid escape sequence '\\ '\n",
      "  \"\"\"\n"
     ]
    },
    {
     "name": "stdout",
     "output_type": "stream",
     "text": [
      "Feedback for Pricing Department: Customer finds the panda plush toy cute and soft but feels it's a bit small for the price paid. Suggest offering larger options for the same price.\n"
     ]
    }
   ],
   "source": [
    "prompt = f\"\"\"\n",
    "Your task is to extract relevant information from \\ \n",
    "a product review from an ecommerce site to give \\\n",
    "feedback to the Shipping department. \n",
    "\n",
    "From the review below, delimited by triple quotes \\\n",
    "extract the information relevant to Pricing Department. Limit to 30 words. \n",
    "\n",
    "Review: ```{prod_review}```\n",
    "\"\"\"\n",
    "\n",
    "response = get_completion(prompt)\n",
    "print(response)"
   ]
  },
  {
   "cell_type": "code",
   "execution_count": 67,
   "id": "d21c7633-4ab1-4d82-bff0-bd4a5149ec07",
   "metadata": {},
   "outputs": [
    {
     "name": "stderr",
     "output_type": "stream",
     "text": [
      "<>:11: SyntaxWarning: invalid escape sequence '\\ '\n",
      "<>:11: SyntaxWarning: invalid escape sequence '\\ '\n",
      "C:\\Users\\nairvis\\AppData\\Local\\Temp\\ipykernel_12364\\3045739750.py:11: SyntaxWarning: invalid escape sequence '\\ '\n",
      "  \"\"\"\n"
     ]
    },
    {
     "name": "stdout",
     "output_type": "stream",
     "text": [
      "The customer mentioned that the panda plush toy is soft, cute, and has a friendly look. However, they felt it was a bit small for the price paid and suggested that there might be bigger options available for the same price. The early arrival was appreciated.\n"
     ]
    }
   ],
   "source": [
    "prompt = f\"\"\"\n",
    "Your task is to extract relevant information from \\ \n",
    "a product review from an ecommerce site to give \\\n",
    "feedback to the Shipping department. \n",
    "\n",
    "From the review below, delimited by triple quotes \\\n",
    "extract the information relevant to Pricing \\ \n",
    "department that are relevant to price and perceived value . Limit to 50 words. \n",
    "\n",
    "Review: ```{prod_review}```\n",
    "\"\"\"\n",
    "\n",
    "response = get_completion(prompt)\n",
    "print(response)"
   ]
  },
  {
   "cell_type": "code",
   "execution_count": 69,
   "id": "02ca9064-f044-4168-ae17-fe7acac546d0",
   "metadata": {},
   "outputs": [
    {
     "name": "stderr",
     "output_type": "stream",
     "text": [
      "<>:11: SyntaxWarning: invalid escape sequence '\\ '\n",
      "<>:11: SyntaxWarning: invalid escape sequence '\\ '\n",
      "C:\\Users\\nairvis\\AppData\\Local\\Temp\\ipykernel_12364\\1153179583.py:11: SyntaxWarning: invalid escape sequence '\\ '\n",
      "  \"\"\"\n"
     ]
    },
    {
     "name": "stdout",
     "output_type": "stream",
     "text": [
      "The review does not contain relevant information for the Pricing department regarding price and perceived value.\n"
     ]
    }
   ],
   "source": [
    "prompt = f\"\"\"\n",
    "Your task is to extract relevant information from \\ \n",
    "a product review from an ecommerce site to give \\\n",
    "feedback to the Shipping department. \n",
    "\n",
    "From the review below, delimited by triple quotes \\\n",
    "extract the information relevant to Pricing \\ \n",
    "department that are relevant to price and perceived value . Limit to 50 words. \n",
    "\n",
    "Review: ```{home_review}```\n",
    "\"\"\"\n",
    "\n",
    "response = get_completion(prompt)\n",
    "print(response)"
   ]
  },
  {
   "cell_type": "markdown",
   "id": "9e3d2aa9-842c-45fc-a831-746be2ec8e31",
   "metadata": {},
   "source": [
    "**Summarize multiple product reviews**"
   ]
  },
  {
   "cell_type": "code",
   "execution_count": 72,
   "id": "032f9259-d5eb-42cd-8d14-3aa367fdc1bd",
   "metadata": {},
   "outputs": [
    {
     "name": "stderr",
     "output_type": "stream",
     "text": [
      "<>:38: SyntaxWarning: invalid escape sequence '\\ '\n",
      "<>:38: SyntaxWarning: invalid escape sequence '\\ '\n",
      "C:\\Users\\nairvis\\AppData\\Local\\Temp\\ipykernel_12364\\3854264938.py:38: SyntaxWarning: invalid escape sequence '\\ '\n",
      "  review_4 = \"\"\"\n"
     ]
    }
   ],
   "source": [
    "review_1 = prod_review \n",
    "\n",
    "# review for a standing lamp\n",
    "review_2 = \"\"\"\n",
    "Needed a nice lamp for my bedroom, and this one \\\n",
    "had additional storage and not too high of a price \\\n",
    "point. Got it fast - arrived in 2 days. The string \\\n",
    "to the lamp broke during the transit and the company \\\n",
    "happily sent over a new one. Came within a few days \\\n",
    "as well. It was easy to put together. Then I had a \\\n",
    "missing part, so I contacted their support and they \\\n",
    "very quickly got me the missing piece! Seems to me \\\n",
    "to be a great company that cares about their customers \\\n",
    "and products. \n",
    "\"\"\"\n",
    "\n",
    "# review for an electric toothbrush\n",
    "review_3 = \"\"\"\n",
    "My dental hygienist recommended an electric toothbrush, \\\n",
    "which is why I got this. The battery life seems to be \\\n",
    "pretty impressive so far. After initial charging and \\\n",
    "leaving the charger plugged in for the first week to \\\n",
    "condition the battery, I've unplugged the charger and \\\n",
    "been using it for twice daily brushing for the last \\\n",
    "3 weeks all on the same charge. But the toothbrush head \\\n",
    "is too small. I’ve seen baby toothbrushes bigger than \\\n",
    "this one. I wish the head was bigger with different \\\n",
    "length bristles to get between teeth better because \\\n",
    "this one doesn’t.  Overall if you can get this one \\\n",
    "around the $50 mark, it's a good deal. The manufactuer's \\\n",
    "replacements heads are pretty expensive, but you can \\\n",
    "get generic ones that're more reasonably priced. This \\\n",
    "toothbrush makes me feel like I've been to the dentist \\\n",
    "every day. My teeth feel sparkly clean! \n",
    "\"\"\"\n",
    "\n",
    "# review for a blender\n",
    "review_4 = \"\"\"\n",
    "So, they still had the 17 piece system on seasonal \\\n",
    "sale for around $49 in the month of November, about \\\n",
    "half off, but for some reason (call it price gouging) \\\n",
    "around the second week of December the prices all went \\\n",
    "up to about anywhere from between $70-$89 for the same \\\n",
    "system. And the 11 piece system went up around $10 or \\\n",
    "so in price also from the earlier sale price of $29. \\\n",
    "So it looks okay, but if you look at the base, the part \\\n",
    "where the blade locks into place doesn’t look as good \\\n",
    "as in previous editions from a few years ago, but I \\\n",
    "plan to be very gentle with it (example, I crush \\\n",
    "very hard items like beans, ice, rice, etc. in the \\ \n",
    "blender first then pulverize them in the serving size \\\n",
    "I want in the blender then switch to the whipping \\\n",
    "blade for a finer flour, and use the cross cutting blade \\\n",
    "first when making smoothies, then use the flat blade \\\n",
    "if I need them finer/less pulpy). Special tip when making \\\n",
    "smoothies, finely cut and freeze the fruits and \\\n",
    "vegetables (if using spinach-lightly stew soften the \\ \n",
    "spinach then freeze until ready for use-and if making \\\n",
    "sorbet, use a small to medium sized food processor) \\ \n",
    "that you plan to use that way you can avoid adding so \\\n",
    "much ice if at all-when making your smoothie. \\\n",
    "After about a year, the motor was making a funny noise. \\\n",
    "I called customer service but the warranty expired \\\n",
    "already, so I had to buy another one. FYI: The overall \\\n",
    "quality has gone done in these types of products, so \\\n",
    "they are kind of counting on brand recognition and \\\n",
    "consumer loyalty to maintain sales. Got it in about \\\n",
    "two days.\n",
    "\"\"\"\n",
    "\n",
    "reviews = [review_1, review_2, review_3, review_4]\n",
    "\n"
   ]
  },
  {
   "cell_type": "code",
   "execution_count": 74,
   "id": "d8a24c30-0a12-4533-933e-73dec3fd4934",
   "metadata": {},
   "outputs": [
    {
     "data": {
      "text/plain": [
       "4"
      ]
     },
     "execution_count": 74,
     "metadata": {},
     "output_type": "execute_result"
    }
   ],
   "source": [
    "len(reviews)"
   ]
  },
  {
   "cell_type": "code",
   "execution_count": 76,
   "id": "a32f7365-6348-45fe-a3f2-ebe87f2047f9",
   "metadata": {},
   "outputs": [
    {
     "name": "stderr",
     "output_type": "stream",
     "text": [
      "<>:10: SyntaxWarning: invalid escape sequence '\\ '\n",
      "<>:10: SyntaxWarning: invalid escape sequence '\\ '\n",
      "C:\\Users\\nairvis\\AppData\\Local\\Temp\\ipykernel_12364\\393577692.py:10: SyntaxWarning: invalid escape sequence '\\ '\n",
      "  \"\"\"\n"
     ]
    },
    {
     "name": "stdout",
     "output_type": "stream",
     "text": [
      "0 Summary: \n",
      "Adorable panda plush loved by daughter, soft and cute, but smaller than expected for the price. Arrived early. \n",
      "\n",
      "1 Great lamp with storage, fast delivery, excellent customer service for missing parts. Easy assembly, good company. \n",
      "\n",
      "2 Impressive battery life, small toothbrush head, good deal for $50, feels like a daily dentist visit. \n",
      "\n",
      "3 17-piece system on sale, price increased later. Base quality not as good. Motor issue after a year. Brand relies on loyalty. \n",
      "\n"
     ]
    }
   ],
   "source": [
    "for i in range(len(reviews)):\n",
    "    prompt = f\"\"\"\n",
    "    Your task is to generate a short summary of a product \\ \n",
    "    review from an ecommerce site. \n",
    "\n",
    "    Summarize the review below, delimited by triple \\\n",
    "    backticks in at most 20 words. \n",
    "\n",
    "    Review: ```{reviews[i]}```\n",
    "    \"\"\"\n",
    "\n",
    "    response = get_completion(prompt)\n",
    "    print(i, response, \"\\n\")"
   ]
  },
  {
   "cell_type": "code",
   "execution_count": 82,
   "id": "21949af8-9f5f-4fc2-bdd6-dbd463a74c02",
   "metadata": {},
   "outputs": [],
   "source": [
    "home_review_1 = home_review \n",
    "\n",
    "home_review_2 = \"\"\"\n",
    "Nice place the only issue we had was the lack of bathrooms. Too many beds and rooms to share one bathroom upstairs. \n",
    "No bathroom in the basement or the big bedroom is disappointing.\n",
    "\"\"\"\n",
    "\n",
    "home_review_3= \"\"\"\n",
    "Overall, great stay, although 2 issues came to mind. 1, it would have been much easier to cook with non stick pans. \n",
    "At a minimum, some brillo pads to clean the pans would have been nice. Lastly, with a house that actively promotes \n",
    "large groups, not being able to take showers without running out of water after 2 or 3 showers, \n",
    "then having to wait an hour before starting again, was a serious inconvenience for a house and \n",
    "price point of this caliber. Otherwise, a good stay\n",
    "\"\"\"\n",
    "home_review_4=\"\"\"\n",
    "The house was beautiful and roomy with such great views all around. Great for our big family. The house was very \n",
    "clean and well kept. There were more than enough towels/pillows/blankets for everyone. The kitchen was stocked \n",
    "to the brim with everything you need for cooking and eating meals. No need to bring plastic plates/cups and \n",
    "utensils. We were very satisfied with our stay. I would absolutely stay here again and recommend anyone else \n",
    "to stay here as well. hopefully it’s available next summer when we plan another family trip out :)\n",
    "\"\"\"\n",
    " \n",
    "home_reviews = [home_review_1, home_review_2, home_review_3, home_review_4]\n"
   ]
  },
  {
   "cell_type": "code",
   "execution_count": 98,
   "id": "a7e174aa-120d-44ee-9a57-09d1f4f5d10f",
   "metadata": {},
   "outputs": [
    {
     "data": {
      "text/plain": [
       "'\\nThe house was beautiful and roomy with such great views all around. Great for our big family. The house was very \\nclean and well kept. There were more than enough towels/pillows/blankets for everyone. The kitchen was stocked \\nto the brim with everything you need for cooking and eating meals. No need to bring plastic plates/cups and \\nutensils. We were very satisfied with our stay. I would absolutely stay here again and recommend anyone else \\nto stay here as well. hopefully it’s available next summer when we plan another family trip out :)\\n'"
      ]
     },
     "execution_count": 98,
     "metadata": {},
     "output_type": "execute_result"
    }
   ],
   "source": [
    "home_review_4"
   ]
  },
  {
   "cell_type": "code",
   "execution_count": 86,
   "id": "cdaa1bc8-0d03-41c8-96a9-6da942cb6f20",
   "metadata": {},
   "outputs": [
    {
     "name": "stderr",
     "output_type": "stream",
     "text": [
      "<>:10: SyntaxWarning: invalid escape sequence '\\ '\n",
      "<>:10: SyntaxWarning: invalid escape sequence '\\ '\n",
      "C:\\Users\\nairvis\\AppData\\Local\\Temp\\ipykernel_12364\\3542886573.py:10: SyntaxWarning: invalid escape sequence '\\ '\n",
      "  \"\"\"\n"
     ]
    },
    {
     "name": "stdout",
     "output_type": "stream",
     "text": [
      "0 Spacious accommodation for 11, ample bathrooms, great location. Wish for an extra bathroom in the basement. Will return. \n",
      "\n",
      "1 Summary: \n",
      "Spacious place but lacking bathrooms, inconvenient for sharing with many beds and rooms. \n",
      "\n",
      "2 Overall positive stay, but issues with non-stick pans, lack of cleaning pads, and water shortage for large groups. \n",
      "\n",
      "3 Spacious, clean house with great views. Well-stocked kitchen. Satisfied with stay, would recommend to others. \n",
      "\n"
     ]
    }
   ],
   "source": [
    "for i in range(len(home_reviews)):\n",
    "    prompt = f\"\"\"\n",
    "    Your task is to generate a short summary of a product \\ \n",
    "    review from an ecommerce site. \n",
    "\n",
    "    Summarize the review below, delimited by triple \\\n",
    "    backticks in at most 20 words. \n",
    "\n",
    "    Review: ```{home_reviews[i]}```\n",
    "    \"\"\"\n",
    "\n",
    "    response = get_completion(prompt)\n",
    "    print(i, response, \"\\n\")\n"
   ]
  },
  {
   "cell_type": "code",
   "execution_count": null,
   "id": "48ad04f7-a239-4ba5-b716-7fb2d9f3ed08",
   "metadata": {},
   "outputs": [],
   "source": []
  }
 ],
 "metadata": {
  "kernelspec": {
   "display_name": "Python 3 (ipykernel)",
   "language": "python",
   "name": "python3"
  },
  "language_info": {
   "codemirror_mode": {
    "name": "ipython",
    "version": 3
   },
   "file_extension": ".py",
   "mimetype": "text/x-python",
   "name": "python",
   "nbconvert_exporter": "python",
   "pygments_lexer": "ipython3",
   "version": "3.12.4"
  }
 },
 "nbformat": 4,
 "nbformat_minor": 5
}
